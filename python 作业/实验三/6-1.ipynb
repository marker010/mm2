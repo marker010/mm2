{
 "cells": [
  {
   "cell_type": "code",
   "execution_count": 18,
   "metadata": {},
   "outputs": [],
   "source": [
    "import random"
   ]
  },
  {
   "cell_type": "code",
   "execution_count": 19,
   "metadata": {},
   "outputs": [
    {
     "data": {
      "text/plain": [
       "[6.658090592552484,\n",
       " 6.565288782717273,\n",
       " 6.342417009726505,\n",
       " 5.8798099807193696,\n",
       " 9.025182050064135,\n",
       " 9.946176549057103,\n",
       " 8.41519654044805,\n",
       " 8.903440080722802,\n",
       " 8.018418356290628,\n",
       " 6.073666427470042]"
      ]
     },
     "execution_count": 19,
     "metadata": {},
     "output_type": "execute_result"
    }
   ],
   "source": [
    "list_a = [random.uniform(5, 10) for i in range(10)]\n",
    "list_a"
   ]
  },
  {
   "cell_type": "code",
   "execution_count": 20,
   "metadata": {},
   "outputs": [
    {
     "data": {
      "text/plain": [
       "[8.018418356290628,\n",
       " 6.342417009726505,\n",
       " 5.8798099807193696,\n",
       " 9.025182050064135,\n",
       " 6.658090592552484,\n",
       " 6.565288782717273,\n",
       " 8.41519654044805,\n",
       " 9.946176549057103,\n",
       " 8.903440080722802,\n",
       " 6.073666427470042]"
      ]
     },
     "execution_count": 20,
     "metadata": {},
     "output_type": "execute_result"
    }
   ],
   "source": [
    "random.shuffle(list_a)\n",
    "list_a"
   ]
  },
  {
   "cell_type": "code",
   "execution_count": 21,
   "metadata": {},
   "outputs": [
    {
     "data": {
      "text/plain": [
       "75.82768636976839"
      ]
     },
     "execution_count": 21,
     "metadata": {},
     "output_type": "execute_result"
    }
   ],
   "source": [
    "sum_a = sum(list_a)\n",
    "sum_a"
   ]
  }
 ],
 "metadata": {
  "kernelspec": {
   "display_name": "Python 3",
   "language": "python",
   "name": "python3"
  },
  "language_info": {
   "codemirror_mode": {
    "name": "ipython",
    "version": 3
   },
   "file_extension": ".py",
   "mimetype": "text/x-python",
   "name": "python",
   "nbconvert_exporter": "python",
   "pygments_lexer": "ipython3",
   "version": "3.12.3"
  }
 },
 "nbformat": 4,
 "nbformat_minor": 2
}
