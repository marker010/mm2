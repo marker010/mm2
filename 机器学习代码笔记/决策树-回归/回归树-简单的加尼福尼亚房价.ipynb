{
 "cells": [
  {
   "cell_type": "code",
   "execution_count": 10,
   "id": "cbe5f081-7277-4876-97a6-cc6d6b0bb45f",
   "metadata": {},
   "outputs": [],
   "source": [
    "from sklearn.datasets import fetch_california_housing\n",
    "from sklearn.model_selection import cross_val_score\n",
    "from sklearn.tree import DecisionTreeRegressor\n",
    "import numpy as np"
   ]
  },
  {
   "cell_type": "code",
   "execution_count": 12,
   "id": "75b2d5e7-64ac-4123-b5ac-e59bc4794fcb",
   "metadata": {},
   "outputs": [],
   "source": [
    "house = fetch_california_housing()\n",
    "regressor = DecisionTreeRegressor(random_state=42)\n",
    "scores = cross_val_score(regressor,house.data,house.target, cv=10, scoring=\"neg_mean_squared_error\")"
   ]
  },
  {
   "cell_type": "code",
   "execution_count": 13,
   "id": "f245fe14-ad96-46c9-8874-1717c46b5026",
   "metadata": {},
   "outputs": [
    {
     "name": "stdout",
     "output_type": "stream",
     "text": [
      "Mean Squared Error:  0.7984153301610997\n",
      "Standard Deviation:  0.22313486967549245\n"
     ]
    }
   ],
   "source": [
    "mean_mse = -scores.mean()\n",
    "std_mse = scores.std()\n",
    "\n",
    "print(\"Mean Squared Error: \", mean_mse)\n",
    "print(\"Standard Deviation: \", std_mse)"
   ]
  },
  {
   "cell_type": "code",
   "execution_count": null,
   "id": "177aa78a-6847-4228-98e0-7838f19e4692",
   "metadata": {},
   "outputs": [],
   "source": []
  }
 ],
 "metadata": {
  "kernelspec": {
   "display_name": "Python 3 (ipykernel)",
   "language": "python",
   "name": "python3"
  },
  "language_info": {
   "codemirror_mode": {
    "name": "ipython",
    "version": 3
   },
   "file_extension": ".py",
   "mimetype": "text/x-python",
   "name": "python",
   "nbconvert_exporter": "python",
   "pygments_lexer": "ipython3",
   "version": "3.12.4"
  }
 },
 "nbformat": 4,
 "nbformat_minor": 5
}
